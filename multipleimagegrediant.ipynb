{
 "cells": [
  {
   "cell_type": "code",
   "execution_count": 13,
   "metadata": {},
   "outputs": [
    {
     "ename": "SyntaxError",
     "evalue": "unexpected character after line continuation character (<ipython-input-13-2a01587f3c47>, line 3)",
     "output_type": "error",
     "traceback": [
      "\u001b[1;36m  File \u001b[1;32m\"<ipython-input-13-2a01587f3c47>\"\u001b[1;36m, line \u001b[1;32m3\u001b[0m\n\u001b[1;33m    file=os.getcwd()+'\\'img'\\'+'img'\u001b[0m\n\u001b[1;37m                                    ^\u001b[0m\n\u001b[1;31mSyntaxError\u001b[0m\u001b[1;31m:\u001b[0m unexpected character after line continuation character\n"
     ]
    }
   ],
   "source": [
    "import os\n",
    "from PIL import Image\n",
    "file=os.getcwd()+'\\'img'\\'+'img'\n",
    "lst=os.listdir(file)\n",
    "for files in lst:\n",
    "    colourImg=Image.open(file+'\\1.jpeg\\'+img)\n",
    "    col_img=colourImg.resize((250,350))\n",
    "\n",
    "    #display(colourImg)\n",
    "    colourPixels = colourImg.convert(\"RGB\")\n",
    "\n",
    "    colourArray = np.array(colourPixels.getdata())\n",
    "    #print(colourArray)\n",
    "\n",
    "    df = pd.DataFrame(colourArray, columns=[\"red\",\"green\",\"blue\"])\n",
    "    df['r2']=round(df['red']/16,0).astype(int)\n",
    "    df['g2']=round(df['green']/16,0).astype(int)\n",
    "    df['b2']=round(df['blue']/16,0).astype(int)\n",
    "    df['dummy']=0\n",
    "\n",
    "    var=df.groupby('dummy')['red','green','blue'].agg(np.mean).astype(int)\n",
    "    var1=df.groupby('dummy')['red','green','blue'].agg(np.max).astype(int)\n",
    "    var2=df.groupby('dummy')['red','green','blue'].agg(np.min).astype(int)\n",
    "    var3=df.groupby(['r2','g2','b2']).agg(np.size).sort_values(['red','green','blue'],ascending=False)\n",
    "\n",
    "    #print(var3)\n",
    "\n",
    "    val_tuple=var3.index[0]\n",
    "    Max_freq=tuple([16*i for i in val_tuple])\n",
    "    Mean=tuple(var.values[0])\n",
    "\n",
    "    Max=tuple(var1.values[0])\n",
    "    Min=tuple(var2.values[0])\n",
    "#     print(Max_freq)\n",
    "#     print(Mean)\n",
    "#     print(Max)\n",
    "#     print(Min)\n",
    "    lst=[]\n",
    "    lst1=[]\n",
    "\n",
    "    for i in Min,Max,Mean,Max_freq:\n",
    "        lst.append(i)\n",
    "    #print(lst)\n",
    "    perm = combinations (lst, 2) \n",
    "    for i in list(perm):\n",
    "        lst1.append(i)\n",
    "    print(lst1)\n",
    "    def interpolate(f_co, t_co, interval):\n",
    "        det_co =[(t - f) / interval for f , t in zip(f_co, t_co)]\n",
    "\n",
    "        for i in range(interval):\n",
    "            yield [round(f + det * i) for f, det in zip(f_co, det_co)]\n",
    "\n",
    "    for cols in lst1:    \n",
    "        im = Image.open(file+'\\\\'+files)\n",
    "        print(im.mode)\n",
    "        im=im.convert('RGBA')\n",
    "        #print(im.size)\n",
    "\n",
    "        gradient = Image.new('RGBA', im.size,color=0)\n",
    "\n",
    "\n",
    "        draw = ImageDraw.Draw(gradient)\n",
    "    #     for i in lst1:\n",
    "        f_co,t_co=cols\n",
    "\n",
    "\n",
    "        for i, color in enumerate(interpolate(f_co, t_co, im.width * 2)): \n",
    "            colori=[]#\n",
    "            for j in range(len(color)):\n",
    "                colori.append(int(color[j]))\n",
    "                #print(j,colori)\n",
    "            draw.line([(i, 0), (0, i)], tuple(colori), width=1)\n",
    "\n",
    "            #display(gradient)\n",
    "        im.resize((200,250))\n",
    "        gradient.paste(im,(50,50),im)\n",
    "        gradient.show()\n",
    "\n",
    "        with open('result.png', 'wb') as f:\n",
    "            gradient.save(f)\n",
    "\n",
    "\n",
    "    "
   ]
  },
  {
   "cell_type": "code",
   "execution_count": 9,
   "metadata": {},
   "outputs": [
    {
     "data": {
      "text/plain": [
       "'C:\\\\Users\\\\HP\\\\Anaconda3\\\\gradeant'"
      ]
     },
     "execution_count": 9,
     "metadata": {},
     "output_type": "execute_result"
    }
   ],
   "source": [
    "import os\n",
    "os.getcwd()"
   ]
  },
  {
   "cell_type": "code",
   "execution_count": null,
   "metadata": {},
   "outputs": [],
   "source": []
  }
 ],
 "metadata": {
  "kernelspec": {
   "display_name": "Python 3",
   "language": "python",
   "name": "python3"
  },
  "language_info": {
   "codemirror_mode": {
    "name": "ipython",
    "version": 3
   },
   "file_extension": ".py",
   "mimetype": "text/x-python",
   "name": "python",
   "nbconvert_exporter": "python",
   "pygments_lexer": "ipython3",
   "version": "3.7.3"
  }
 },
 "nbformat": 4,
 "nbformat_minor": 2
}
